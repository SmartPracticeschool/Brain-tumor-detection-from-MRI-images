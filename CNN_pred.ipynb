{
  "nbformat": 4,
  "nbformat_minor": 0,
  "metadata": {
    "colab": {
      "name": "CNN_pred.ipynb",
      "provenance": [],
      "mount_file_id": "1SGeXJVfc_YI1Z36zebpL_8s2tWAWaj-F",
      "authorship_tag": "ABX9TyN2t+ss1V7u64SuoosU+E1o",
      "include_colab_link": true
    },
    "kernelspec": {
      "name": "python3",
      "display_name": "Python 3"
    }
  },
  "cells": [
    {
      "cell_type": "markdown",
      "metadata": {
        "id": "view-in-github",
        "colab_type": "text"
      },
      "source": [
        "<a href=\"https://colab.research.google.com/github/SmartPracticeschool/llSPS-INT-2384-Brain-tumor-detection-from-MRI-images/blob/master/CNN_pred.ipynb\" target=\"_parent\"><img src=\"https://colab.research.google.com/assets/colab-badge.svg\" alt=\"Open In Colab\"/></a>"
      ]
    },
    {
      "cell_type": "code",
      "metadata": {
        "id": "RBH4qkabolO8",
        "colab_type": "code",
        "colab": {}
      },
      "source": [
        "from keras.models import load_model\n",
        "from keras.preprocessing import image\n",
        "import numpy as np\n"
      ],
      "execution_count": 0,
      "outputs": []
    },
    {
      "cell_type": "code",
      "metadata": {
        "id": "y2AT8VCtqkRL",
        "colab_type": "code",
        "colab": {}
      },
      "source": [
        "#loading cnn model\n",
        "model=load_model(\"/content/cnn.h5\")"
      ],
      "execution_count": 0,
      "outputs": []
    },
    {
      "cell_type": "code",
      "metadata": {
        "id": "wE2iCKPPt-Xn",
        "colab_type": "code",
        "colab": {}
      },
      "source": [
        "#loading image\n",
        "img=image.load_img(r'/content/drive/My Drive/brain/normal_brain.jpeg',target_size=(64,64))"
      ],
      "execution_count": 0,
      "outputs": []
    },
    {
      "cell_type": "code",
      "metadata": {
        "id": "F0u2XCC97wYS",
        "colab_type": "code",
        "colab": {}
      },
      "source": [
        "#image preprocessing\n",
        "X=image.img_to_array(img)\n",
        "X=np.expand_dims(X,axis=0)"
      ],
      "execution_count": 0,
      "outputs": []
    },
    {
      "cell_type": "code",
      "metadata": {
        "id": "e0EZdDC48TN-",
        "colab_type": "code",
        "colab": {}
      },
      "source": [
        "#prediction\n",
        "pred=model.predict_classes(X)"
      ],
      "execution_count": 0,
      "outputs": []
    },
    {
      "cell_type": "code",
      "metadata": {
        "id": "ZSYsWBoc8cdL",
        "colab_type": "code",
        "colab": {
          "base_uri": "https://localhost:8080/",
          "height": 34
        },
        "outputId": "6bdba3f8-1d68-4105-92cc-8c216cdfa01a"
      },
      "source": [
        "pred"
      ],
      "execution_count": 15,
      "outputs": [
        {
          "output_type": "execute_result",
          "data": {
            "text/plain": [
              "array([[0]], dtype=int32)"
            ]
          },
          "metadata": {
            "tags": []
          },
          "execution_count": 15
        }
      ]
    },
    {
      "cell_type": "code",
      "metadata": {
        "id": "pq4Z0F7p8f0B",
        "colab_type": "code",
        "colab": {}
      },
      "source": [
        ""
      ],
      "execution_count": 0,
      "outputs": []
    }
  ]
}