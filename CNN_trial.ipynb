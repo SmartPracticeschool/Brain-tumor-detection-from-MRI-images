{
  "nbformat": 4,
  "nbformat_minor": 0,
  "metadata": {
    "colab": {
      "name": "CNN_trial.ipynb",
      "provenance": [],
      "authorship_tag": "ABX9TyMCFS7VTXokaPrpTvICUy22",
      "include_colab_link": true
    },
    "kernelspec": {
      "name": "python3",
      "display_name": "Python 3"
    }
  },
  "cells": [
    {
      "cell_type": "markdown",
      "metadata": {
        "id": "view-in-github",
        "colab_type": "text"
      },
      "source": [
        "<a href=\"https://colab.research.google.com/github/SmartPracticeschool/llSPS-INT-2384-Brain-tumor-detection-from-MRI-images/blob/master/CNN_trial.ipynb\" target=\"_parent\"><img src=\"https://colab.research.google.com/assets/colab-badge.svg\" alt=\"Open In Colab\"/></a>"
      ]
    },
    {
      "cell_type": "code",
      "metadata": {
        "id": "91N44tVgts7X",
        "colab_type": "code",
        "colab": {}
      },
      "source": [
        "!pip install tensorflow"
      ],
      "execution_count": 0,
      "outputs": []
    },
    {
      "cell_type": "code",
      "metadata": {
        "id": "VOuEJ2Xyt2hB",
        "colab_type": "code",
        "colab": {}
      },
      "source": [
        "import tensorflow as tf"
      ],
      "execution_count": 0,
      "outputs": []
    },
    {
      "cell_type": "code",
      "metadata": {
        "id": "5ng2u7PIt-WB",
        "colab_type": "code",
        "colab": {}
      },
      "source": [
        "print(tf.__version__)"
      ],
      "execution_count": 0,
      "outputs": []
    },
    {
      "cell_type": "code",
      "metadata": {
        "id": "7rvBwEAcuJD3",
        "colab_type": "code",
        "colab": {}
      },
      "source": [
        "#importing libraries\n",
        "from keras.models import Sequential\n",
        "from keras.layers import Dense\n",
        "from keras.layers import Convolution2D\n",
        "from keras.layers import MaxPooling2D\n",
        "from keras.layers import Flatten\n"
      ],
      "execution_count": 0,
      "outputs": []
    },
    {
      "cell_type": "code",
      "metadata": {
        "id": "l-GTrWktzFFi",
        "colab_type": "code",
        "colab": {}
      },
      "source": [
        "#initialising the model\n",
        "model=Sequential()"
      ],
      "execution_count": 0,
      "outputs": []
    },
    {
      "cell_type": "code",
      "metadata": {
        "id": "pKUA80LBzOLl",
        "colab_type": "code",
        "colab": {}
      },
      "source": [
        "#add convolution layer\n",
        "model.add(Convolution2D(32,(3,3),input_shape=(64,64,3),activation='relu'))"
      ],
      "execution_count": 0,
      "outputs": []
    },
    {
      "cell_type": "code",
      "metadata": {
        "id": "OxOohvwWzlU_",
        "colab_type": "code",
        "colab": {}
      },
      "source": [
        "#add maxpooling layer\n",
        "model.add(MaxPooling2D(pool_size=(2,2)))"
      ],
      "execution_count": 0,
      "outputs": []
    },
    {
      "cell_type": "code",
      "metadata": {
        "id": "g6Ce1ERvzys6",
        "colab_type": "code",
        "colab": {}
      },
      "source": [
        "#add flattening layer\n",
        "model.add(Flatten())"
      ],
      "execution_count": 0,
      "outputs": []
    },
    {
      "cell_type": "code",
      "metadata": {
        "id": "Qw6dKzS_z5iv",
        "colab_type": "code",
        "outputId": "4308a6eb-23ca-4de6-a7d5-3da1842be9c0",
        "colab": {
          "base_uri": "https://localhost:8080/",
          "height": 71
        }
      },
      "source": [
        "#add hidden layer\n",
        "model.add(Dense(output_dim=128,init='uniform',activation='relu'))"
      ],
      "execution_count": 0,
      "outputs": [
        {
          "output_type": "stream",
          "text": [
            "/usr/local/lib/python3.6/dist-packages/ipykernel_launcher.py:2: UserWarning: Update your `Dense` call to the Keras 2 API: `Dense(activation=\"relu\", units=128, kernel_initializer=\"uniform\")`\n",
            "  \n"
          ],
          "name": "stderr"
        }
      ]
    },
    {
      "cell_type": "code",
      "metadata": {
        "id": "sz4eBXTv0MDC",
        "colab_type": "code",
        "colab": {}
      },
      "source": [
        "#add output layer\n",
        "model.add(Dense(output_dim=1,init='uniform',activation='sigmoid'))"
      ],
      "execution_count": 0,
      "outputs": []
    },
    {
      "cell_type": "code",
      "metadata": {
        "id": "fGo39H3s0nJa",
        "colab_type": "code",
        "colab": {}
      },
      "source": [
        "#Preprocessing images\n",
        "from keras.preprocessing.image import ImageDataGenerator\n",
        "train_datagen=ImageDataGenerator(rescale=1./255,shear_range=0.2,horizontal_flip=True,zoom_range=0.2)\n",
        "test_datagen=ImageDataGenerator(rescale=1./255)"
      ],
      "execution_count": 0,
      "outputs": []
    },
    {
      "cell_type": "code",
      "metadata": {
        "id": "lerAB8cI1mak",
        "colab_type": "code",
        "colab": {}
      },
      "source": [
        ""
      ],
      "execution_count": 0,
      "outputs": []
    },
    {
      "cell_type": "code",
      "metadata": {
        "id": "hHbg_3Xt2Vwk",
        "colab_type": "code",
        "colab": {}
      },
      "source": [
        "from google.colab import drive\n",
        "drive.mount('/content/drive')"
      ],
      "execution_count": 0,
      "outputs": []
    },
    {
      "cell_type": "code",
      "metadata": {
        "id": "OVA9L0FaDAQP",
        "colab_type": "code",
        "outputId": "99a7b312-3b5b-492c-bd3c-1b24a8d3066d",
        "colab": {
          "base_uri": "https://localhost:8080/",
          "height": 34
        }
      },
      "source": [
        "x_train=train_datagen.flow_from_directory(r'/content/drive/My Drive/brain_tumor_dataset/Train_data',target_size=(64,64),batch_size=32,class_mode='binary')"
      ],
      "execution_count": 0,
      "outputs": [
        {
          "output_type": "stream",
          "text": [
            "Found 186 images belonging to 2 classes.\n"
          ],
          "name": "stdout"
        }
      ]
    },
    {
      "cell_type": "code",
      "metadata": {
        "colab_type": "code",
        "outputId": "3fd8f516-d775-465c-d4f1-8c2389c2bd75",
        "id": "wO2ywOiGEHOm",
        "colab": {
          "base_uri": "https://localhost:8080/",
          "height": 34
        }
      },
      "source": [
        "x_test=test_datagen.flow_from_directory(r'/content/drive/My Drive/brain_tumor_dataset/Test_data',target_size=(64,64),batch_size=32,class_mode='binary')"
      ],
      "execution_count": 0,
      "outputs": [
        {
          "output_type": "stream",
          "text": [
            "Found 72 images belonging to 2 classes.\n"
          ],
          "name": "stdout"
        }
      ]
    },
    {
      "cell_type": "code",
      "metadata": {
        "id": "cj7zkHzqEPb4",
        "colab_type": "code",
        "outputId": "652fb215-dd30-4568-afd7-5ef940b8e35e",
        "colab": {
          "base_uri": "https://localhost:8080/",
          "height": 34
        }
      },
      "source": [
        "print(x_train.class_indices)"
      ],
      "execution_count": 0,
      "outputs": [
        {
          "output_type": "stream",
          "text": [
            "{'no': 0, 'yes': 1}\n"
          ],
          "name": "stdout"
        }
      ]
    },
    {
      "cell_type": "code",
      "metadata": {
        "id": "cwG9qzjYjAvZ",
        "colab_type": "code",
        "colab": {}
      },
      "source": [
        "#compiling model\n",
        "model.compile(loss='binary_crossentropy',optimizer='adam',metrics=['accuracy'])"
      ],
      "execution_count": 0,
      "outputs": []
    },
    {
      "cell_type": "code",
      "metadata": {
        "id": "JvSTSGlYj_Dh",
        "colab_type": "code",
        "outputId": "23b4f0be-8d4a-4798-8050-b18ae1984bb9",
        "colab": {
          "base_uri": "https://localhost:8080/",
          "height": 360
        }
      },
      "source": [
        "model.fit_generator(x_train,steps_per_epoch=6,epochs=9,validation_data=x_test,validation_steps=2)"
      ],
      "execution_count": 0,
      "outputs": [
        {
          "output_type": "stream",
          "text": [
            "Epoch 1/9\n",
            "6/6 [==============================] - 2s 284ms/step - loss: 0.5083 - accuracy: 0.7581 - val_loss: 0.4626 - val_accuracy: 0.8281\n",
            "Epoch 2/9\n",
            "6/6 [==============================] - 2s 286ms/step - loss: 0.4739 - accuracy: 0.7796 - val_loss: 0.3752 - val_accuracy: 0.8000\n",
            "Epoch 3/9\n",
            "6/6 [==============================] - 1s 235ms/step - loss: 0.5033 - accuracy: 0.7204 - val_loss: 0.7447 - val_accuracy: 0.8000\n",
            "Epoch 4/9\n",
            "6/6 [==============================] - 2s 290ms/step - loss: 0.5061 - accuracy: 0.7473 - val_loss: 0.3773 - val_accuracy: 0.8125\n",
            "Epoch 5/9\n",
            "6/6 [==============================] - 2s 276ms/step - loss: 0.4734 - accuracy: 0.7849 - val_loss: 0.4966 - val_accuracy: 0.7750\n",
            "Epoch 6/9\n",
            "6/6 [==============================] - 1s 240ms/step - loss: 0.4666 - accuracy: 0.7849 - val_loss: 0.1921 - val_accuracy: 0.8500\n",
            "Epoch 7/9\n",
            "6/6 [==============================] - 2s 275ms/step - loss: 0.4479 - accuracy: 0.7903 - val_loss: 0.5596 - val_accuracy: 0.7500\n",
            "Epoch 8/9\n",
            "6/6 [==============================] - 2s 301ms/step - loss: 0.4247 - accuracy: 0.7903 - val_loss: 0.4366 - val_accuracy: 0.8750\n",
            "Epoch 9/9\n",
            "6/6 [==============================] - 1s 220ms/step - loss: 0.4278 - accuracy: 0.8065 - val_loss: 0.4561 - val_accuracy: 0.8500\n"
          ],
          "name": "stdout"
        },
        {
          "output_type": "execute_result",
          "data": {
            "text/plain": [
              "<keras.callbacks.callbacks.History at 0x7f7ea19e0470>"
            ]
          },
          "metadata": {
            "tags": []
          },
          "execution_count": 18
        }
      ]
    },
    {
      "cell_type": "code",
      "metadata": {
        "id": "_T_0FzaHlw2A",
        "colab_type": "code",
        "colab": {}
      },
      "source": [
        "model.save('cnn.h5')"
      ],
      "execution_count": 0,
      "outputs": []
    },
    {
      "cell_type": "code",
      "metadata": {
        "id": "9AZa4ZXyoYmD",
        "colab_type": "code",
        "colab": {}
      },
      "source": [
        ""
      ],
      "execution_count": 0,
      "outputs": []
    }
  ]
}